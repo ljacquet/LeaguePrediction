{
 "cells": [
  {
   "cell_type": "markdown",
   "metadata": {},
   "source": [
    "# Environment Setup"
   ]
  },
  {
   "cell_type": "code",
   "execution_count": 1,
   "metadata": {},
   "outputs": [],
   "source": [
    "### Imports ###\n",
    "# General\n",
    "import urllib.request, json # Downloading Data\n",
    "import urllib3.contrib.pyopenssl\n",
    "import numpy as np\n",
    "import time\n",
    "import datetime\n",
    "import math\n",
    "import random\n",
    "\n",
    "# File\n",
    "import pickle\n",
    "\n",
    "#Web Scraping\n",
    "from requests import get\n",
    "from requests.exceptions import RequestException\n",
    "from contextlib import closing\n",
    "from bs4 import BeautifulSoup\n",
    "import re, string\n",
    "\n",
    "\n",
    "### Declarations ###\n",
    "Api_Key = \"API_KEYs\"\n",
    "with open('RiotAPIKey.txt') as fp:\n",
    "    Api_Key = fp.read()\n",
    "gameData = np.array([])\n",
    "userData = {}\n",
    "\n",
    "_SEED_USER = \"Faendol\" # User To Start the Search At\n",
    "_USER_DEPTH = 1 # Numbers of 'Jumps' out to spread search to. Gets a lot more data but takes a very long time\n",
    "\n",
    "### Web Functions ###\n",
    "TimeStart = 0\n",
    "totalrequests = 0\n",
    "\n",
    "def getLeagueData(urlData, depth=0): # Function for querying Riot API with Rate Limiting\n",
    "    global TimeStart, totalrequests\n",
    "    # Check if Need to reset requests counter\n",
    "    if (TimeStart + 120) <= int(time.time()):\n",
    "        TimeStart = int(time.time())\n",
    "    \n",
    "    #Check if over requests\n",
    "    if totalrequests > 99:\n",
    "        print(\"  Over Requests! Sleeping \" + str((TimeStart + 120) - int(time.time())) + \" Seconds\", end='', flush=True)\n",
    "        if math.ceil((TimeStart + 120) - int(time.time())) > 0:\n",
    "            time.sleep(math.ceil((TimeStart + 122) - int(time.time()))) # Add 2 seconds because Riot API Seems to be slightly off\n",
    "        totalrequests = 0\n",
    "        TimeStart = int(time.time())\n",
    "    # Get Data\n",
    "    try:\n",
    "        with urllib.request.urlopen(urlData) as url:\n",
    "            for header in url.getheaders():\n",
    "                if header[0] == \"X-App-Rate-Limit-Count\":\n",
    "                    tempstr = header[1]\n",
    "            totalrequests = int(tempstr[tempstr.index(\",\")+1:tempstr.rfind(\":\")])\n",
    "            return json.loads(url.read().decode())\n",
    "    except urllib.error.HTTPError as error:\n",
    "        if error.code == 429:\n",
    "            print(\"Queries: {}\\nTime1: {}\\nTime2: {}\".format(totalrequests, (TimeStart + 120) - int(time.time()), error.getheaders()[2][1]))\n",
    "            time.sleep(int(error.getheaders()[2][1]))\n",
    "            totalrequests = 0\n",
    "            TimeStart = int(time.time())\n",
    "            return getLeagueData(urlData)\n",
    "        else:\n",
    "            if error.code == 500 or error.code == 503:\n",
    "                print('Server Error ' + urlData)\n",
    "                time.sleep(10)\n",
    "                return getLeagueData(urlData)\n",
    "            else:\n",
    "                if error.code == 404 and depth < 4: # Check if actual 404 or Riot API error\n",
    "                    print(\"Potential Server Error\" + urlData)\n",
    "                    time.sleep(30)\n",
    "                    return getLeagueData(urlData, depth + 1)\n",
    "                else:\n",
    "                    print(urlData)\n",
    "                    raise\n",
    "                \n",
    "### Get and Update Game Data ###\n",
    "def updateGameData(localData, extra = \"\"):\n",
    "    global playerData, gameData\n",
    "    \n",
    "    LeagueDataCount = 1\n",
    "    ## Get All Match Data for Each Match\n",
    "    for dataPoint in localData[\"matches\"]:\n",
    "        print('\\r' + str(LeagueDataCount) + ' / ' + str(len(localData['matches'])) + \" \" + str(extra), end='', flush=True)\n",
    "        LeagueDataCount += 1\n",
    "        \n",
    "        if any(x['gameID'] == dataPoint['gameId'] for x in gameData): #Check match not already evaluated\n",
    "            continue\n",
    "        \n",
    "        data = getLeagueData(\"https://na1.api.riotgames.com/lol/match/v4/matches/\" + str(dataPoint['gameId']) + \"?api_key=\" + Api_Key)\n",
    "        \n",
    "        dataobj = {\n",
    "            'gameID': dataPoint['gameId'],\n",
    "            'winner': data['teams'][0]['win'] == 'Win', #true for team 100\n",
    "            'players': []\n",
    "        }\n",
    "        \n",
    "        for player in data['participantIdentities']:\n",
    "            playerData = {\n",
    "                'playerID': player['participantId'],\n",
    "                'summonerID': player['player']['summonerId'],\n",
    "                'accountID': player['player']['accountId'],\n",
    "                'currentAccountID': player['player']['currentAccountId'],\n",
    "                'championID': data['participants'][int(player['participantId'])-1]['championId'],\n",
    "                'lane': data['participants'][int(player['participantId'])-1]['timeline']['lane']\n",
    "            }\n",
    "            \n",
    "            if playerData['accountID'] not in userData:\n",
    "                userData[playerData['accountID']] = {\n",
    "                    'playerID': player['participantId'],\n",
    "                    'summonerID': player['player']['summonerId'],\n",
    "                    'accountID': player['player']['accountId'],\n",
    "                    'currentAccountID': player['player']['currentAccountId'],\n",
    "                    'level': -1,\n",
    "                    'rank': -1,\n",
    "                    'champions': {},\n",
    "                    'gotMatchHistory': False\n",
    "                    }\n",
    "            \n",
    "            dataobj['players'].append(playerData)\n",
    "        \n",
    "        gameData = np.append(gameData, dataobj)"
   ]
  },
  {
   "cell_type": "markdown",
   "metadata": {},
   "source": [
    "# NA.OP.GG champion winrates"
   ]
  },
  {
   "cell_type": "code",
   "execution_count": 2,
   "metadata": {},
   "outputs": [
    {
     "name": "stdout",
     "output_type": "stream",
     "text": [
      "Calculated Winrates\n"
     ]
    }
   ],
   "source": [
    "### Scrape all winrates from na.op.gg\n",
    "# Get Champion Names and IDs\n",
    "ChampMap = {}\n",
    "pattern = re.compile('[\\W_]+')\n",
    "\n",
    "version = \"1.1\"\n",
    "with closing(get(\"https://ddragon.leagueoflegends.com/api/versions.json\", stream=True)) as resp:\n",
    "    with closing(get(\"http://ddragon.leagueoflegends.com/cdn/{0}/data/en_US/champion.json\".format(json.loads(resp.content)[0]), stream=True)) as rep:\n",
    "        localData = json.loads(rep.content)[\"data\"]\n",
    "        for champ in localData:\n",
    "            ChampMap[pattern.sub('', localData[champ][\"name\"].lower())] = localData[champ]['key']\n",
    "    \n",
    "webResponse = None\n",
    "ChampData = {}\n",
    "\n",
    "try:\n",
    "    with closing(get(\"https://na.op.gg/statistics/ajax2/champion/type=win&league=&period=month&mapId=12&queue=aram\", stream=True)) as resp:\n",
    "        webResponse = BeautifulSoup(resp.content, 'html.parser')\n",
    "\n",
    "except RequestException as e:\n",
    "    log_error('Error during requests to na.op.gg : {0}'.format(str(e)))\n",
    "\n",
    "parent = webResponse.select(\"tbody\")[0].find_all(\"tr\")\n",
    "\n",
    "for tr in parent:\n",
    "    ChampData[int(ChampMap[pattern.sub('', tr.find(\"td\", class_=\"Cell ChampionName\").a.string.lower())])] = (float(tr.contents[7][\"data-value\"]) / 100)\n",
    "\n",
    "print('Calculated Winrates')"
   ]
  },
  {
   "cell_type": "markdown",
   "metadata": {},
   "source": [
    "# Get all games from seed user"
   ]
  },
  {
   "cell_type": "code",
   "execution_count": 3,
   "metadata": {},
   "outputs": [
    {
     "name": "stdout",
     "output_type": "stream",
     "text": [
      "100 / 100  Over Requests! Sleeping 64 Seconds\n",
      "Got Initial Game Data\n"
     ]
    }
   ],
   "source": [
    "# Get User Information\n",
    "seedUserData = getLeagueData(\"https://na1.api.riotgames.com/lol/summoner/v4/summoners/by-name/\" + _SEED_USER + \"?api_key=\" + Api_Key)\n",
    "\n",
    "## Get All Matches For Specific Account ID\n",
    "updateGameData(getLeagueData(\"https://na1.api.riotgames.com/lol/match/v4/matchlists/by-account/\" + seedUserData[\"accountId\"] + \"?queue=450&api_key=\" + Api_Key))\n",
    "print(\"\\nGot Initial Game Data\")"
   ]
  },
  {
   "cell_type": "markdown",
   "metadata": {},
   "source": [
    "# Expand Search and Get All Games for All Users"
   ]
  },
  {
   "cell_type": "code",
   "execution_count": 4,
   "metadata": {},
   "outputs": [
    {
     "name": "stdout",
     "output_type": "stream",
     "text": [
      "36 / 60  -- 12 / 882359ver Requests! Sleeping 63 Seconds  Over Requests! Sleeping 65 Seconds  Over Requests! Sleeping 65 Seconds  Over Requests! Sleeping 64 Seconds  Over Requests! Sleeping 65 Seconds  Over Requests! Sleeping 65 Seconds  Over Requests! Sleeping 64 Seconds  Over Requests! Sleeping 65 Seconds  Over Requests! Sleeping 65 Seconds  Over Requests! Sleeping 62 SecondsPotential Server Errorhttps://na1.api.riotgames.com/lol/match/v4/matches/3057183148?api_key=RGAPI-1142dbcf-21d8-4c68-94b0-f75f472b06f9\n",
      "58 / 100  -- 13 / 9129Potential Server Errorhttps://na1.api.riotgames.com/lol/match/v4/matches/3069084037?api_key=RGAPI-1142dbcf-21d8-4c68-94b0-f75f472b06f9\n",
      "2 / 100  -- 21 / 1443821Over Requests! Sleeping 4 Seconds  Over Requests! Sleeping 63 Seconds  Over Requests! Sleeping 61 Seconds  Over Requests! Sleeping 63 Seconds  Over Requests! Sleeping 63 Seconds  Over Requests! Sleeping 64 Seconds  Over Requests! Sleeping 64 Seconds"
     ]
    },
    {
     "ename": "KeyboardInterrupt",
     "evalue": "",
     "output_type": "error",
     "traceback": [
      "\u001b[1;31m---------------------------------------------------------------------------\u001b[0m",
      "\u001b[1;31mKeyboardInterrupt\u001b[0m                         Traceback (most recent call last)",
      "\u001b[1;32m<ipython-input-4-5a7409318453>\u001b[0m in \u001b[0;36m<module>\u001b[1;34m\u001b[0m\n\u001b[0;32m      4\u001b[0m     \u001b[1;32mfor\u001b[0m \u001b[0muser\u001b[0m \u001b[1;32min\u001b[0m \u001b[0mlist\u001b[0m\u001b[1;33m(\u001b[0m\u001b[0muserData\u001b[0m\u001b[1;33m)\u001b[0m\u001b[1;33m:\u001b[0m\u001b[1;33m\u001b[0m\u001b[1;33m\u001b[0m\u001b[0m\n\u001b[0;32m      5\u001b[0m         \u001b[1;32mif\u001b[0m \u001b[0muserData\u001b[0m\u001b[1;33m[\u001b[0m\u001b[0muser\u001b[0m\u001b[1;33m]\u001b[0m\u001b[1;33m[\u001b[0m\u001b[1;34m'gotMatchHistory'\u001b[0m\u001b[1;33m]\u001b[0m \u001b[1;33m==\u001b[0m \u001b[1;32mFalse\u001b[0m\u001b[1;33m:\u001b[0m\u001b[1;33m\u001b[0m\u001b[1;33m\u001b[0m\u001b[0m\n\u001b[1;32m----> 6\u001b[1;33m             \u001b[0mupdateGameData\u001b[0m\u001b[1;33m(\u001b[0m\u001b[0mgetLeagueData\u001b[0m\u001b[1;33m(\u001b[0m\u001b[1;34m\"https://na1.api.riotgames.com/lol/match/v4/matchlists/by-account/\"\u001b[0m \u001b[1;33m+\u001b[0m \u001b[0mstr\u001b[0m\u001b[1;33m(\u001b[0m\u001b[0muserData\u001b[0m\u001b[1;33m[\u001b[0m\u001b[0muser\u001b[0m\u001b[1;33m]\u001b[0m\u001b[1;33m[\u001b[0m\u001b[1;34m'accountID'\u001b[0m\u001b[1;33m]\u001b[0m\u001b[1;33m)\u001b[0m \u001b[1;33m+\u001b[0m \u001b[1;34m\"?queue=450&api_key=\"\u001b[0m \u001b[1;33m+\u001b[0m \u001b[0mApi_Key\u001b[0m\u001b[1;33m)\u001b[0m\u001b[1;33m,\u001b[0m \u001b[1;34m\" -- {} / {}\"\u001b[0m\u001b[1;33m.\u001b[0m\u001b[0mformat\u001b[0m\u001b[1;33m(\u001b[0m\u001b[0mTotalUserCount\u001b[0m\u001b[1;33m,\u001b[0m \u001b[0mlen\u001b[0m\u001b[1;33m(\u001b[0m\u001b[0muserData\u001b[0m\u001b[1;33m)\u001b[0m\u001b[1;33m)\u001b[0m\u001b[1;33m)\u001b[0m\u001b[1;33m\u001b[0m\u001b[1;33m\u001b[0m\u001b[0m\n\u001b[0m\u001b[0;32m      7\u001b[0m             \u001b[0muserData\u001b[0m\u001b[1;33m[\u001b[0m\u001b[0muser\u001b[0m\u001b[1;33m]\u001b[0m\u001b[1;33m[\u001b[0m\u001b[1;34m'gotMatchHistory'\u001b[0m\u001b[1;33m]\u001b[0m \u001b[1;33m=\u001b[0m \u001b[1;32mTrue\u001b[0m\u001b[1;33m\u001b[0m\u001b[1;33m\u001b[0m\u001b[0m\n\u001b[0;32m      8\u001b[0m         \u001b[0mTotalUserCount\u001b[0m \u001b[1;33m+=\u001b[0m \u001b[1;36m1\u001b[0m\u001b[1;33m\u001b[0m\u001b[1;33m\u001b[0m\u001b[0m\n",
      "\u001b[1;32m<ipython-input-1-03db8558ced2>\u001b[0m in \u001b[0;36mupdateGameData\u001b[1;34m(localData, extra)\u001b[0m\n\u001b[0;32m     89\u001b[0m             \u001b[1;32mcontinue\u001b[0m\u001b[1;33m\u001b[0m\u001b[1;33m\u001b[0m\u001b[0m\n\u001b[0;32m     90\u001b[0m \u001b[1;33m\u001b[0m\u001b[0m\n\u001b[1;32m---> 91\u001b[1;33m         \u001b[0mdata\u001b[0m \u001b[1;33m=\u001b[0m \u001b[0mgetLeagueData\u001b[0m\u001b[1;33m(\u001b[0m\u001b[1;34m\"https://na1.api.riotgames.com/lol/match/v4/matches/\"\u001b[0m \u001b[1;33m+\u001b[0m \u001b[0mstr\u001b[0m\u001b[1;33m(\u001b[0m\u001b[0mdataPoint\u001b[0m\u001b[1;33m[\u001b[0m\u001b[1;34m'gameId'\u001b[0m\u001b[1;33m]\u001b[0m\u001b[1;33m)\u001b[0m \u001b[1;33m+\u001b[0m \u001b[1;34m\"?api_key=\"\u001b[0m \u001b[1;33m+\u001b[0m \u001b[0mApi_Key\u001b[0m\u001b[1;33m)\u001b[0m\u001b[1;33m\u001b[0m\u001b[1;33m\u001b[0m\u001b[0m\n\u001b[0m\u001b[0;32m     92\u001b[0m \u001b[1;33m\u001b[0m\u001b[0m\n\u001b[0;32m     93\u001b[0m         dataobj = {\n",
      "\u001b[1;32m<ipython-input-1-03db8558ced2>\u001b[0m in \u001b[0;36mgetLeagueData\u001b[1;34m(urlData, depth)\u001b[0m\n\u001b[0;32m     49\u001b[0m     \u001b[1;31m# Get Data\u001b[0m\u001b[1;33m\u001b[0m\u001b[1;33m\u001b[0m\u001b[1;33m\u001b[0m\u001b[0m\n\u001b[0;32m     50\u001b[0m     \u001b[1;32mtry\u001b[0m\u001b[1;33m:\u001b[0m\u001b[1;33m\u001b[0m\u001b[1;33m\u001b[0m\u001b[0m\n\u001b[1;32m---> 51\u001b[1;33m         \u001b[1;32mwith\u001b[0m \u001b[0murllib\u001b[0m\u001b[1;33m.\u001b[0m\u001b[0mrequest\u001b[0m\u001b[1;33m.\u001b[0m\u001b[0murlopen\u001b[0m\u001b[1;33m(\u001b[0m\u001b[0murlData\u001b[0m\u001b[1;33m)\u001b[0m \u001b[1;32mas\u001b[0m \u001b[0murl\u001b[0m\u001b[1;33m:\u001b[0m\u001b[1;33m\u001b[0m\u001b[1;33m\u001b[0m\u001b[0m\n\u001b[0m\u001b[0;32m     52\u001b[0m             \u001b[1;32mfor\u001b[0m \u001b[0mheader\u001b[0m \u001b[1;32min\u001b[0m \u001b[0murl\u001b[0m\u001b[1;33m.\u001b[0m\u001b[0mgetheaders\u001b[0m\u001b[1;33m(\u001b[0m\u001b[1;33m)\u001b[0m\u001b[1;33m:\u001b[0m\u001b[1;33m\u001b[0m\u001b[1;33m\u001b[0m\u001b[0m\n\u001b[0;32m     53\u001b[0m                 \u001b[1;32mif\u001b[0m \u001b[0mheader\u001b[0m\u001b[1;33m[\u001b[0m\u001b[1;36m0\u001b[0m\u001b[1;33m]\u001b[0m \u001b[1;33m==\u001b[0m \u001b[1;34m\"X-App-Rate-Limit-Count\"\u001b[0m\u001b[1;33m:\u001b[0m\u001b[1;33m\u001b[0m\u001b[1;33m\u001b[0m\u001b[0m\n",
      "\u001b[1;32mC:\\Anaconda\\envs\\ML\\lib\\urllib\\request.py\u001b[0m in \u001b[0;36murlopen\u001b[1;34m(url, data, timeout, cafile, capath, cadefault, context)\u001b[0m\n\u001b[0;32m    220\u001b[0m     \u001b[1;32melse\u001b[0m\u001b[1;33m:\u001b[0m\u001b[1;33m\u001b[0m\u001b[1;33m\u001b[0m\u001b[0m\n\u001b[0;32m    221\u001b[0m         \u001b[0mopener\u001b[0m \u001b[1;33m=\u001b[0m \u001b[0m_opener\u001b[0m\u001b[1;33m\u001b[0m\u001b[1;33m\u001b[0m\u001b[0m\n\u001b[1;32m--> 222\u001b[1;33m     \u001b[1;32mreturn\u001b[0m \u001b[0mopener\u001b[0m\u001b[1;33m.\u001b[0m\u001b[0mopen\u001b[0m\u001b[1;33m(\u001b[0m\u001b[0murl\u001b[0m\u001b[1;33m,\u001b[0m \u001b[0mdata\u001b[0m\u001b[1;33m,\u001b[0m \u001b[0mtimeout\u001b[0m\u001b[1;33m)\u001b[0m\u001b[1;33m\u001b[0m\u001b[1;33m\u001b[0m\u001b[0m\n\u001b[0m\u001b[0;32m    223\u001b[0m \u001b[1;33m\u001b[0m\u001b[0m\n\u001b[0;32m    224\u001b[0m \u001b[1;32mdef\u001b[0m \u001b[0minstall_opener\u001b[0m\u001b[1;33m(\u001b[0m\u001b[0mopener\u001b[0m\u001b[1;33m)\u001b[0m\u001b[1;33m:\u001b[0m\u001b[1;33m\u001b[0m\u001b[1;33m\u001b[0m\u001b[0m\n",
      "\u001b[1;32mC:\\Anaconda\\envs\\ML\\lib\\urllib\\request.py\u001b[0m in \u001b[0;36mopen\u001b[1;34m(self, fullurl, data, timeout)\u001b[0m\n\u001b[0;32m    523\u001b[0m             \u001b[0mreq\u001b[0m \u001b[1;33m=\u001b[0m \u001b[0mmeth\u001b[0m\u001b[1;33m(\u001b[0m\u001b[0mreq\u001b[0m\u001b[1;33m)\u001b[0m\u001b[1;33m\u001b[0m\u001b[1;33m\u001b[0m\u001b[0m\n\u001b[0;32m    524\u001b[0m \u001b[1;33m\u001b[0m\u001b[0m\n\u001b[1;32m--> 525\u001b[1;33m         \u001b[0mresponse\u001b[0m \u001b[1;33m=\u001b[0m \u001b[0mself\u001b[0m\u001b[1;33m.\u001b[0m\u001b[0m_open\u001b[0m\u001b[1;33m(\u001b[0m\u001b[0mreq\u001b[0m\u001b[1;33m,\u001b[0m \u001b[0mdata\u001b[0m\u001b[1;33m)\u001b[0m\u001b[1;33m\u001b[0m\u001b[1;33m\u001b[0m\u001b[0m\n\u001b[0m\u001b[0;32m    526\u001b[0m \u001b[1;33m\u001b[0m\u001b[0m\n\u001b[0;32m    527\u001b[0m         \u001b[1;31m# post-process response\u001b[0m\u001b[1;33m\u001b[0m\u001b[1;33m\u001b[0m\u001b[1;33m\u001b[0m\u001b[0m\n",
      "\u001b[1;32mC:\\Anaconda\\envs\\ML\\lib\\urllib\\request.py\u001b[0m in \u001b[0;36m_open\u001b[1;34m(self, req, data)\u001b[0m\n\u001b[0;32m    541\u001b[0m         \u001b[0mprotocol\u001b[0m \u001b[1;33m=\u001b[0m \u001b[0mreq\u001b[0m\u001b[1;33m.\u001b[0m\u001b[0mtype\u001b[0m\u001b[1;33m\u001b[0m\u001b[1;33m\u001b[0m\u001b[0m\n\u001b[0;32m    542\u001b[0m         result = self._call_chain(self.handle_open, protocol, protocol +\n\u001b[1;32m--> 543\u001b[1;33m                                   '_open', req)\n\u001b[0m\u001b[0;32m    544\u001b[0m         \u001b[1;32mif\u001b[0m \u001b[0mresult\u001b[0m\u001b[1;33m:\u001b[0m\u001b[1;33m\u001b[0m\u001b[1;33m\u001b[0m\u001b[0m\n\u001b[0;32m    545\u001b[0m             \u001b[1;32mreturn\u001b[0m \u001b[0mresult\u001b[0m\u001b[1;33m\u001b[0m\u001b[1;33m\u001b[0m\u001b[0m\n",
      "\u001b[1;32mC:\\Anaconda\\envs\\ML\\lib\\urllib\\request.py\u001b[0m in \u001b[0;36m_call_chain\u001b[1;34m(self, chain, kind, meth_name, *args)\u001b[0m\n\u001b[0;32m    501\u001b[0m         \u001b[1;32mfor\u001b[0m \u001b[0mhandler\u001b[0m \u001b[1;32min\u001b[0m \u001b[0mhandlers\u001b[0m\u001b[1;33m:\u001b[0m\u001b[1;33m\u001b[0m\u001b[1;33m\u001b[0m\u001b[0m\n\u001b[0;32m    502\u001b[0m             \u001b[0mfunc\u001b[0m \u001b[1;33m=\u001b[0m \u001b[0mgetattr\u001b[0m\u001b[1;33m(\u001b[0m\u001b[0mhandler\u001b[0m\u001b[1;33m,\u001b[0m \u001b[0mmeth_name\u001b[0m\u001b[1;33m)\u001b[0m\u001b[1;33m\u001b[0m\u001b[1;33m\u001b[0m\u001b[0m\n\u001b[1;32m--> 503\u001b[1;33m             \u001b[0mresult\u001b[0m \u001b[1;33m=\u001b[0m \u001b[0mfunc\u001b[0m\u001b[1;33m(\u001b[0m\u001b[1;33m*\u001b[0m\u001b[0margs\u001b[0m\u001b[1;33m)\u001b[0m\u001b[1;33m\u001b[0m\u001b[1;33m\u001b[0m\u001b[0m\n\u001b[0m\u001b[0;32m    504\u001b[0m             \u001b[1;32mif\u001b[0m \u001b[0mresult\u001b[0m \u001b[1;32mis\u001b[0m \u001b[1;32mnot\u001b[0m \u001b[1;32mNone\u001b[0m\u001b[1;33m:\u001b[0m\u001b[1;33m\u001b[0m\u001b[1;33m\u001b[0m\u001b[0m\n\u001b[0;32m    505\u001b[0m                 \u001b[1;32mreturn\u001b[0m \u001b[0mresult\u001b[0m\u001b[1;33m\u001b[0m\u001b[1;33m\u001b[0m\u001b[0m\n",
      "\u001b[1;32mC:\\Anaconda\\envs\\ML\\lib\\urllib\\request.py\u001b[0m in \u001b[0;36mhttps_open\u001b[1;34m(self, req)\u001b[0m\n\u001b[0;32m   1358\u001b[0m         \u001b[1;32mdef\u001b[0m \u001b[0mhttps_open\u001b[0m\u001b[1;33m(\u001b[0m\u001b[0mself\u001b[0m\u001b[1;33m,\u001b[0m \u001b[0mreq\u001b[0m\u001b[1;33m)\u001b[0m\u001b[1;33m:\u001b[0m\u001b[1;33m\u001b[0m\u001b[1;33m\u001b[0m\u001b[0m\n\u001b[0;32m   1359\u001b[0m             return self.do_open(http.client.HTTPSConnection, req,\n\u001b[1;32m-> 1360\u001b[1;33m                 context=self._context, check_hostname=self._check_hostname)\n\u001b[0m\u001b[0;32m   1361\u001b[0m \u001b[1;33m\u001b[0m\u001b[0m\n\u001b[0;32m   1362\u001b[0m         \u001b[0mhttps_request\u001b[0m \u001b[1;33m=\u001b[0m \u001b[0mAbstractHTTPHandler\u001b[0m\u001b[1;33m.\u001b[0m\u001b[0mdo_request_\u001b[0m\u001b[1;33m\u001b[0m\u001b[1;33m\u001b[0m\u001b[0m\n",
      "\u001b[1;32mC:\\Anaconda\\envs\\ML\\lib\\urllib\\request.py\u001b[0m in \u001b[0;36mdo_open\u001b[1;34m(self, http_class, req, **http_conn_args)\u001b[0m\n\u001b[0;32m   1318\u001b[0m             \u001b[1;32mexcept\u001b[0m \u001b[0mOSError\u001b[0m \u001b[1;32mas\u001b[0m \u001b[0merr\u001b[0m\u001b[1;33m:\u001b[0m \u001b[1;31m# timeout error\u001b[0m\u001b[1;33m\u001b[0m\u001b[1;33m\u001b[0m\u001b[0m\n\u001b[0;32m   1319\u001b[0m                 \u001b[1;32mraise\u001b[0m \u001b[0mURLError\u001b[0m\u001b[1;33m(\u001b[0m\u001b[0merr\u001b[0m\u001b[1;33m)\u001b[0m\u001b[1;33m\u001b[0m\u001b[1;33m\u001b[0m\u001b[0m\n\u001b[1;32m-> 1320\u001b[1;33m             \u001b[0mr\u001b[0m \u001b[1;33m=\u001b[0m \u001b[0mh\u001b[0m\u001b[1;33m.\u001b[0m\u001b[0mgetresponse\u001b[0m\u001b[1;33m(\u001b[0m\u001b[1;33m)\u001b[0m\u001b[1;33m\u001b[0m\u001b[1;33m\u001b[0m\u001b[0m\n\u001b[0m\u001b[0;32m   1321\u001b[0m         \u001b[1;32mexcept\u001b[0m\u001b[1;33m:\u001b[0m\u001b[1;33m\u001b[0m\u001b[1;33m\u001b[0m\u001b[0m\n\u001b[0;32m   1322\u001b[0m             \u001b[0mh\u001b[0m\u001b[1;33m.\u001b[0m\u001b[0mclose\u001b[0m\u001b[1;33m(\u001b[0m\u001b[1;33m)\u001b[0m\u001b[1;33m\u001b[0m\u001b[1;33m\u001b[0m\u001b[0m\n",
      "\u001b[1;32mC:\\Anaconda\\envs\\ML\\lib\\http\\client.py\u001b[0m in \u001b[0;36mgetresponse\u001b[1;34m(self)\u001b[0m\n\u001b[0;32m   1319\u001b[0m         \u001b[1;32mtry\u001b[0m\u001b[1;33m:\u001b[0m\u001b[1;33m\u001b[0m\u001b[1;33m\u001b[0m\u001b[0m\n\u001b[0;32m   1320\u001b[0m             \u001b[1;32mtry\u001b[0m\u001b[1;33m:\u001b[0m\u001b[1;33m\u001b[0m\u001b[1;33m\u001b[0m\u001b[0m\n\u001b[1;32m-> 1321\u001b[1;33m                 \u001b[0mresponse\u001b[0m\u001b[1;33m.\u001b[0m\u001b[0mbegin\u001b[0m\u001b[1;33m(\u001b[0m\u001b[1;33m)\u001b[0m\u001b[1;33m\u001b[0m\u001b[1;33m\u001b[0m\u001b[0m\n\u001b[0m\u001b[0;32m   1322\u001b[0m             \u001b[1;32mexcept\u001b[0m \u001b[0mConnectionError\u001b[0m\u001b[1;33m:\u001b[0m\u001b[1;33m\u001b[0m\u001b[1;33m\u001b[0m\u001b[0m\n\u001b[0;32m   1323\u001b[0m                 \u001b[0mself\u001b[0m\u001b[1;33m.\u001b[0m\u001b[0mclose\u001b[0m\u001b[1;33m(\u001b[0m\u001b[1;33m)\u001b[0m\u001b[1;33m\u001b[0m\u001b[1;33m\u001b[0m\u001b[0m\n",
      "\u001b[1;32mC:\\Anaconda\\envs\\ML\\lib\\http\\client.py\u001b[0m in \u001b[0;36mbegin\u001b[1;34m(self)\u001b[0m\n\u001b[0;32m    294\u001b[0m         \u001b[1;31m# read until we get a non-100 response\u001b[0m\u001b[1;33m\u001b[0m\u001b[1;33m\u001b[0m\u001b[1;33m\u001b[0m\u001b[0m\n\u001b[0;32m    295\u001b[0m         \u001b[1;32mwhile\u001b[0m \u001b[1;32mTrue\u001b[0m\u001b[1;33m:\u001b[0m\u001b[1;33m\u001b[0m\u001b[1;33m\u001b[0m\u001b[0m\n\u001b[1;32m--> 296\u001b[1;33m             \u001b[0mversion\u001b[0m\u001b[1;33m,\u001b[0m \u001b[0mstatus\u001b[0m\u001b[1;33m,\u001b[0m \u001b[0mreason\u001b[0m \u001b[1;33m=\u001b[0m \u001b[0mself\u001b[0m\u001b[1;33m.\u001b[0m\u001b[0m_read_status\u001b[0m\u001b[1;33m(\u001b[0m\u001b[1;33m)\u001b[0m\u001b[1;33m\u001b[0m\u001b[1;33m\u001b[0m\u001b[0m\n\u001b[0m\u001b[0;32m    297\u001b[0m             \u001b[1;32mif\u001b[0m \u001b[0mstatus\u001b[0m \u001b[1;33m!=\u001b[0m \u001b[0mCONTINUE\u001b[0m\u001b[1;33m:\u001b[0m\u001b[1;33m\u001b[0m\u001b[1;33m\u001b[0m\u001b[0m\n\u001b[0;32m    298\u001b[0m                 \u001b[1;32mbreak\u001b[0m\u001b[1;33m\u001b[0m\u001b[1;33m\u001b[0m\u001b[0m\n",
      "\u001b[1;32mC:\\Anaconda\\envs\\ML\\lib\\http\\client.py\u001b[0m in \u001b[0;36m_read_status\u001b[1;34m(self)\u001b[0m\n\u001b[0;32m    255\u001b[0m \u001b[1;33m\u001b[0m\u001b[0m\n\u001b[0;32m    256\u001b[0m     \u001b[1;32mdef\u001b[0m \u001b[0m_read_status\u001b[0m\u001b[1;33m(\u001b[0m\u001b[0mself\u001b[0m\u001b[1;33m)\u001b[0m\u001b[1;33m:\u001b[0m\u001b[1;33m\u001b[0m\u001b[1;33m\u001b[0m\u001b[0m\n\u001b[1;32m--> 257\u001b[1;33m         \u001b[0mline\u001b[0m \u001b[1;33m=\u001b[0m \u001b[0mstr\u001b[0m\u001b[1;33m(\u001b[0m\u001b[0mself\u001b[0m\u001b[1;33m.\u001b[0m\u001b[0mfp\u001b[0m\u001b[1;33m.\u001b[0m\u001b[0mreadline\u001b[0m\u001b[1;33m(\u001b[0m\u001b[0m_MAXLINE\u001b[0m \u001b[1;33m+\u001b[0m \u001b[1;36m1\u001b[0m\u001b[1;33m)\u001b[0m\u001b[1;33m,\u001b[0m \u001b[1;34m\"iso-8859-1\"\u001b[0m\u001b[1;33m)\u001b[0m\u001b[1;33m\u001b[0m\u001b[1;33m\u001b[0m\u001b[0m\n\u001b[0m\u001b[0;32m    258\u001b[0m         \u001b[1;32mif\u001b[0m \u001b[0mlen\u001b[0m\u001b[1;33m(\u001b[0m\u001b[0mline\u001b[0m\u001b[1;33m)\u001b[0m \u001b[1;33m>\u001b[0m \u001b[0m_MAXLINE\u001b[0m\u001b[1;33m:\u001b[0m\u001b[1;33m\u001b[0m\u001b[1;33m\u001b[0m\u001b[0m\n\u001b[0;32m    259\u001b[0m             \u001b[1;32mraise\u001b[0m \u001b[0mLineTooLong\u001b[0m\u001b[1;33m(\u001b[0m\u001b[1;34m\"status line\"\u001b[0m\u001b[1;33m)\u001b[0m\u001b[1;33m\u001b[0m\u001b[1;33m\u001b[0m\u001b[0m\n",
      "\u001b[1;32mC:\\Anaconda\\envs\\ML\\lib\\socket.py\u001b[0m in \u001b[0;36mreadinto\u001b[1;34m(self, b)\u001b[0m\n\u001b[0;32m    587\u001b[0m         \u001b[1;32mwhile\u001b[0m \u001b[1;32mTrue\u001b[0m\u001b[1;33m:\u001b[0m\u001b[1;33m\u001b[0m\u001b[1;33m\u001b[0m\u001b[0m\n\u001b[0;32m    588\u001b[0m             \u001b[1;32mtry\u001b[0m\u001b[1;33m:\u001b[0m\u001b[1;33m\u001b[0m\u001b[1;33m\u001b[0m\u001b[0m\n\u001b[1;32m--> 589\u001b[1;33m                 \u001b[1;32mreturn\u001b[0m \u001b[0mself\u001b[0m\u001b[1;33m.\u001b[0m\u001b[0m_sock\u001b[0m\u001b[1;33m.\u001b[0m\u001b[0mrecv_into\u001b[0m\u001b[1;33m(\u001b[0m\u001b[0mb\u001b[0m\u001b[1;33m)\u001b[0m\u001b[1;33m\u001b[0m\u001b[1;33m\u001b[0m\u001b[0m\n\u001b[0m\u001b[0;32m    590\u001b[0m             \u001b[1;32mexcept\u001b[0m \u001b[0mtimeout\u001b[0m\u001b[1;33m:\u001b[0m\u001b[1;33m\u001b[0m\u001b[1;33m\u001b[0m\u001b[0m\n\u001b[0;32m    591\u001b[0m                 \u001b[0mself\u001b[0m\u001b[1;33m.\u001b[0m\u001b[0m_timeout_occurred\u001b[0m \u001b[1;33m=\u001b[0m \u001b[1;32mTrue\u001b[0m\u001b[1;33m\u001b[0m\u001b[1;33m\u001b[0m\u001b[0m\n",
      "\u001b[1;32mC:\\Anaconda\\envs\\ML\\lib\\ssl.py\u001b[0m in \u001b[0;36mrecv_into\u001b[1;34m(self, buffer, nbytes, flags)\u001b[0m\n\u001b[0;32m   1050\u001b[0m                   \u001b[1;34m\"non-zero flags not allowed in calls to recv_into() on %s\"\u001b[0m \u001b[1;33m%\u001b[0m\u001b[1;33m\u001b[0m\u001b[1;33m\u001b[0m\u001b[0m\n\u001b[0;32m   1051\u001b[0m                   self.__class__)\n\u001b[1;32m-> 1052\u001b[1;33m             \u001b[1;32mreturn\u001b[0m \u001b[0mself\u001b[0m\u001b[1;33m.\u001b[0m\u001b[0mread\u001b[0m\u001b[1;33m(\u001b[0m\u001b[0mnbytes\u001b[0m\u001b[1;33m,\u001b[0m \u001b[0mbuffer\u001b[0m\u001b[1;33m)\u001b[0m\u001b[1;33m\u001b[0m\u001b[1;33m\u001b[0m\u001b[0m\n\u001b[0m\u001b[0;32m   1053\u001b[0m         \u001b[1;32melse\u001b[0m\u001b[1;33m:\u001b[0m\u001b[1;33m\u001b[0m\u001b[1;33m\u001b[0m\u001b[0m\n\u001b[0;32m   1054\u001b[0m             \u001b[1;32mreturn\u001b[0m \u001b[0msuper\u001b[0m\u001b[1;33m(\u001b[0m\u001b[1;33m)\u001b[0m\u001b[1;33m.\u001b[0m\u001b[0mrecv_into\u001b[0m\u001b[1;33m(\u001b[0m\u001b[0mbuffer\u001b[0m\u001b[1;33m,\u001b[0m \u001b[0mnbytes\u001b[0m\u001b[1;33m,\u001b[0m \u001b[0mflags\u001b[0m\u001b[1;33m)\u001b[0m\u001b[1;33m\u001b[0m\u001b[1;33m\u001b[0m\u001b[0m\n",
      "\u001b[1;32mC:\\Anaconda\\envs\\ML\\lib\\ssl.py\u001b[0m in \u001b[0;36mread\u001b[1;34m(self, len, buffer)\u001b[0m\n\u001b[0;32m    909\u001b[0m         \u001b[1;32mtry\u001b[0m\u001b[1;33m:\u001b[0m\u001b[1;33m\u001b[0m\u001b[1;33m\u001b[0m\u001b[0m\n\u001b[0;32m    910\u001b[0m             \u001b[1;32mif\u001b[0m \u001b[0mbuffer\u001b[0m \u001b[1;32mis\u001b[0m \u001b[1;32mnot\u001b[0m \u001b[1;32mNone\u001b[0m\u001b[1;33m:\u001b[0m\u001b[1;33m\u001b[0m\u001b[1;33m\u001b[0m\u001b[0m\n\u001b[1;32m--> 911\u001b[1;33m                 \u001b[1;32mreturn\u001b[0m \u001b[0mself\u001b[0m\u001b[1;33m.\u001b[0m\u001b[0m_sslobj\u001b[0m\u001b[1;33m.\u001b[0m\u001b[0mread\u001b[0m\u001b[1;33m(\u001b[0m\u001b[0mlen\u001b[0m\u001b[1;33m,\u001b[0m \u001b[0mbuffer\u001b[0m\u001b[1;33m)\u001b[0m\u001b[1;33m\u001b[0m\u001b[1;33m\u001b[0m\u001b[0m\n\u001b[0m\u001b[0;32m    912\u001b[0m             \u001b[1;32melse\u001b[0m\u001b[1;33m:\u001b[0m\u001b[1;33m\u001b[0m\u001b[1;33m\u001b[0m\u001b[0m\n\u001b[0;32m    913\u001b[0m                 \u001b[1;32mreturn\u001b[0m \u001b[0mself\u001b[0m\u001b[1;33m.\u001b[0m\u001b[0m_sslobj\u001b[0m\u001b[1;33m.\u001b[0m\u001b[0mread\u001b[0m\u001b[1;33m(\u001b[0m\u001b[0mlen\u001b[0m\u001b[1;33m)\u001b[0m\u001b[1;33m\u001b[0m\u001b[1;33m\u001b[0m\u001b[0m\n",
      "\u001b[1;31mKeyboardInterrupt\u001b[0m: "
     ]
    }
   ],
   "source": [
    "TotalUserCount = 1\n",
    "\n",
    "for i in range(_USER_DEPTH):\n",
    "    for user in list(userData):\n",
    "        if userData[user]['gotMatchHistory'] == False:\n",
    "            updateGameData(getLeagueData(\"https://na1.api.riotgames.com/lol/match/v4/matchlists/by-account/\" + str(userData[user]['accountID']) + \"?queue=450&api_key=\" + Api_Key), \" -- {} / {}\".format(TotalUserCount, len(userData)))\n",
    "            userData[user]['gotMatchHistory'] = True\n",
    "        TotalUserCount += 1"
   ]
  },
  {
   "cell_type": "markdown",
   "metadata": {},
   "source": [
    "# Get Ranks"
   ]
  },
  {
   "cell_type": "code",
   "execution_count": 4,
   "metadata": {},
   "outputs": [
    {
     "name": "stdout",
     "output_type": "stream",
     "text": [
      "69 / 761Server Error https://na1.api.riotgames.com/lol/league/v4/entries/by-summoner/g_GapeqsaXixLzBHEjkV2LMG0C0PnNSsmGkodoWgNxl-iKU?api_key=RGAPI-1142dbcf-21d8-4c68-94b0-f75f472b06f9\n",
      "761 / 761  Over Requests! Sleeping 76 Seconds\n",
      "Got All Ranked Data\n"
     ]
    }
   ],
   "source": [
    "# Dictionary for Getting Values\n",
    "tierPoints = ['IRON', 'BRONZE', 'SILVER', 'GOLD', 'PLATINUM', 'PLATINUM','DIAMOND','MASTER','CHALLENGER', 'GRANDMASTER']\n",
    "rankPoints= [\"IV\", \"III\", \"II\", \"I\"]\n",
    "\n",
    "rankCount = 1\n",
    "\n",
    "# Get User Rank\n",
    "for user in userData:\n",
    "    if userData[user]['rank'] >= 0:\n",
    "        rankCount += 1\n",
    "        continue\n",
    "    \n",
    "    print('\\r{} / {}'.format(rankCount, len(userData)), end='')\n",
    "    tempUserRankData = getLeagueData(\"https://na1.api.riotgames.com/lol/league/v4/entries/by-summoner/\" + str(userData[user]['summonerID']) + \"?api_key=\" + Api_Key)\n",
    "    if len(tempUserRankData) > 0:\n",
    "        for rankData in tempUserRankData:\n",
    "            rank = rankData['rank']\n",
    "            tier = rankData['tier']\n",
    "            leaguepoints = rankData['leaguePoints']\n",
    "            \n",
    "            # Calculate Point Value from Rank\n",
    "            tempRank = (tierPoints.index(tier) * 500) + (rankPoints.index(rank) * 100) + int(leaguepoints)\n",
    "            \n",
    "            if tempRank > userData[user]['rank']:\n",
    "                userData[user]['rank'] = tempRank\n",
    "                userData[user]['rankString'] = '{} {} {} LP'.format(tier, rank, leaguepoints)\n",
    "    else:\n",
    "        userData[user]['rank'] = 0\n",
    "    rankCount += 1\n",
    "print(\"\\nGot All Ranked Data\")"
   ]
  },
  {
   "cell_type": "markdown",
   "metadata": {},
   "source": [
    "# Get Level"
   ]
  },
  {
   "cell_type": "code",
   "execution_count": 5,
   "metadata": {},
   "outputs": [
    {
     "name": "stdout",
     "output_type": "stream",
     "text": [
      "761 / 761 Over Requests! Sleeping 77 Seconds  Over Requests! Sleeping 77 Seconds  Over Requests! Sleeping 77 Seconds  Over Requests! Sleeping 76 Seconds  Over Requests! Sleeping 77 Seconds  Over Requests! Sleeping 77 Seconds  Over Requests! Sleeping 76 Seconds  Over Requests! Sleeping 77 Seconds\n",
      "Got all Level Data\n"
     ]
    }
   ],
   "source": [
    "levelDataCount = 1\n",
    "\n",
    "# Get User Level\n",
    "for user in userData:\n",
    "    if userData[user]['level'] >= 0:\n",
    "        levelDataCount += 1\n",
    "        continue\n",
    "    \n",
    "    print('\\r' + str(levelDataCount) + ' / ' + str(len(userData)), end='', flush=True)\n",
    "    tempUserLevelData = getLeagueData(\"https://na1.api.riotgames.com/lol/summoner/v4/summoners/by-account/\" + str(userData[user]['currentAccountID']) + \"?api_key=\" + Api_Key)\n",
    "    userData[user]['level'] = tempUserLevelData['summonerLevel']\n",
    "    levelDataCount += 1\n",
    "print('\\nGot all Level Data')"
   ]
  },
  {
   "cell_type": "markdown",
   "metadata": {},
   "source": [
    "# Get User Mastery"
   ]
  },
  {
   "cell_type": "code",
   "execution_count": 6,
   "metadata": {},
   "outputs": [
    {
     "name": "stdout",
     "output_type": "stream",
     "text": [
      "761 / 761 ETA 0.0 hoursrs  Over Requests! Sleeping 66 Seconds\n",
      "Got All Mastery\n"
     ]
    }
   ],
   "source": [
    "masteryDataCount = 1\n",
    "\n",
    "# Get User Mastery\n",
    "for user in userData:\n",
    "    if len(userData[user]['champions']) > 0:\n",
    "        masteryDataCount += 1\n",
    "        continue\n",
    "    \n",
    "    print('\\r{} / {} ETA {} hours'.format(masteryDataCount, len(userData), round((len(userData) - masteryDataCount) / 50 / 60, 3)), end='')\n",
    "    tempUserMasteryData = getLeagueData('https://na1.api.riotgames.com/lol/champion-mastery/v4/champion-masteries/by-summoner/' + str(userData[user]['summonerID']) + '?api_key=' + Api_Key)\n",
    "    for champMastery in tempUserMasteryData:\n",
    "        userData[user]['champions'][champMastery['championId']] = {\n",
    "            'championID': champMastery['championId'],\n",
    "            'level': champMastery['championLevel'],\n",
    "            'points': champMastery['championPoints']\n",
    "        }\n",
    "    masteryDataCount += 1\n",
    "print(\"\\nGot All Mastery\")"
   ]
  },
  {
   "cell_type": "markdown",
   "metadata": {},
   "source": [
    "# Save Data"
   ]
  },
  {
   "cell_type": "code",
   "execution_count": 7,
   "metadata": {},
   "outputs": [
    {
     "name": "stdout",
     "output_type": "stream",
     "text": [
      "Saved Data: 06:05PM on July 10, 2019\n"
     ]
    }
   ],
   "source": [
    "with open('./Data/GameData' + datetime.datetime.now().strftime(\".%Y.%m.%d\") + '.pickle', 'wb') as handle:\n",
    "    pickle.dump(gameData, handle, protocol=pickle.HIGHEST_PROTOCOL)\n",
    "\n",
    "with open('./Data/PlayerData' + datetime.datetime.now().strftime(\".%Y.%m.%d\") + '.pickle', 'wb') as handle:\n",
    "    pickle.dump(userData, handle, protocol=pickle.HIGHEST_PROTOCOL)\n",
    "    \n",
    "with open('./DataChampData' + datetime.datetime.now().strftime(\".%Y.%m.%d\") + '.pickle', 'wb') as handle:\n",
    "    pickle.dump(ChampData, handle, protocol=pickle.HIGHEST_PROTOCOL)\n",
    "    \n",
    "print(\"Saved Data: \" + datetime.datetime.now().strftime(\"%I:%M%p on %B %d, %Y\"))"
   ]
  }
 ],
 "metadata": {
  "kernelspec": {
   "display_name": "Python 3",
   "language": "python",
   "name": "python3"
  },
  "language_info": {
   "codemirror_mode": {
    "name": "ipython",
    "version": 3
   },
   "file_extension": ".py",
   "mimetype": "text/x-python",
   "name": "python",
   "nbconvert_exporter": "python",
   "pygments_lexer": "ipython3",
   "version": "3.7.3"
  }
 },
 "nbformat": 4,
 "nbformat_minor": 2
}
