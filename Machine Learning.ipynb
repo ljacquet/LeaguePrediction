{
 "cells": [
  {
   "cell_type": "markdown",
   "metadata": {},
   "source": [
    "# Imports"
   ]
  },
  {
   "cell_type": "code",
   "execution_count": 27,
   "metadata": {},
   "outputs": [
    {
     "ename": "ModuleNotFoundError",
     "evalue": "No module named 'keras'",
     "output_type": "error",
     "traceback": [
      "\u001b[1;31m---------------------------------------------------------------------------\u001b[0m",
      "\u001b[1;31mModuleNotFoundError\u001b[0m                       Traceback (most recent call last)",
      "\u001b[1;32m<ipython-input-27-968f0d6c5896>\u001b[0m in \u001b[0;36m<module>\u001b[1;34m\u001b[0m\n\u001b[0;32m      4\u001b[0m \u001b[1;32mimport\u001b[0m \u001b[0mtensorflow\u001b[0m \u001b[1;32mas\u001b[0m \u001b[0mtf\u001b[0m\u001b[1;33m\u001b[0m\u001b[1;33m\u001b[0m\u001b[0m\n\u001b[0;32m      5\u001b[0m \u001b[1;32mfrom\u001b[0m \u001b[0mtensorflow\u001b[0m \u001b[1;32mimport\u001b[0m \u001b[0mkeras\u001b[0m \u001b[1;32mas\u001b[0m \u001b[0mtfkeras\u001b[0m\u001b[1;33m\u001b[0m\u001b[1;33m\u001b[0m\u001b[0m\n\u001b[1;32m----> 6\u001b[1;33m \u001b[1;32mimport\u001b[0m \u001b[0mkeras\u001b[0m\u001b[1;33m\u001b[0m\u001b[1;33m\u001b[0m\u001b[0m\n\u001b[0m\u001b[0;32m      7\u001b[0m \u001b[1;32mimport\u001b[0m \u001b[0mnumpy\u001b[0m \u001b[1;32mas\u001b[0m \u001b[0mnp\u001b[0m\u001b[1;33m\u001b[0m\u001b[1;33m\u001b[0m\u001b[0m\n\u001b[0;32m      8\u001b[0m \u001b[1;32mimport\u001b[0m \u001b[0mmatplotlib\u001b[0m\u001b[1;33m\u001b[0m\u001b[1;33m\u001b[0m\u001b[0m\n",
      "\u001b[1;31mModuleNotFoundError\u001b[0m: No module named 'keras'"
     ]
    }
   ],
   "source": [
    "import glob, pickle, datetime, numpy as np, math\n",
    "\n",
    "# ML\n",
    "import tensorflow as tf\n",
    "from tensorflow import keras as tfkeras\n",
    "import keras\n",
    "import numpy as np\n",
    "import matplotlib\n",
    "import matplotlib.pyplot as plt\n",
    "from keras import backend as K\n",
    "import scipy\n",
    "from scipy import stats\n",
    "import sys\n",
    "from sklearn.preprocessing import QuantileTransformer\n",
    "import sklearn"
   ]
  },
  {
   "cell_type": "markdown",
   "metadata": {},
   "source": [
    "# Load Data"
   ]
  },
  {
   "cell_type": "code",
   "execution_count": 20,
   "metadata": {},
   "outputs": [
    {
     "name": "stdout",
     "output_type": "stream",
     "text": [
      "Loaded Data: 06:10PM on July 10, 2019\n",
      "./Data\\GameData.2019.07.10.pickle\n",
      "./Data\\PlayerData.2019.07.10.pickle\n",
      "./Data\\ChampData.2019.07.10.pickle\n"
     ]
    }
   ],
   "source": [
    "# Get List of Current Data Files\n",
    "game = glob.glob(\"./Data/GameData*.pickle\")\n",
    "player = glob.glob(\"./Data/PlayerData*.pickle\")\n",
    "champ = glob.glob(\"./Data/ChampData*.pickle\")\n",
    "\n",
    "# Sort to find the most recent\n",
    "game.sort()\n",
    "player.sort()\n",
    "champ.sort()\n",
    "\n",
    "# Open Most Recent File\n",
    "with open(game[-1], 'rb') as handle:\n",
    "    gameData = pickle.load(handle)\n",
    "    \n",
    "with open(player[-1], 'rb') as handle:\n",
    "    userData = pickle.load(handle)\n",
    "    \n",
    "with open(champ[-1], 'rb') as handle:\n",
    "    champData = pickle.load(handle)\n",
    "\n",
    "print(\"Loaded Data: \" + datetime.datetime.now().strftime(\"%I:%M%p on %B %d, %Y\") + \"\\n{}\\n{}\\n{}\".format(game[-1], player[-1], champ[-1]))"
   ]
  },
  {
   "cell_type": "markdown",
   "metadata": {},
   "source": [
    "# Create Dataset"
   ]
  },
  {
   "cell_type": "code",
   "execution_count": 21,
   "metadata": {},
   "outputs": [],
   "source": [
    "# Helper Function for removing Outliers\n",
    "def removeOutliers(x, outlierConstant = 1.5):\n",
    "    a = np.array(x)\n",
    "    upper_quartile = np.percentile(a, 75)\n",
    "    lower_quartile = np.percentile(a, 25)\n",
    "    IQR = (upper_quartile - lower_quartile) * outlierConstant\n",
    "    quartileSet = (lower_quartile - IQR, upper_quartile + IQR)\n",
    "    resultList = []\n",
    "    for y in a.tolist():\n",
    "        if y >= quartileSet[0] and y <= quartileSet[1]:\n",
    "            resultList.append(y)\n",
    "    return resultList"
   ]
  },
  {
   "cell_type": "code",
   "execution_count": 25,
   "metadata": {},
   "outputs": [
    {
     "name": "stdout",
     "output_type": "stream",
     "text": [
      "Done!\n"
     ]
    }
   ],
   "source": [
    "AllDataArray_X = []\n",
    "AllDataArray_Y = []\n",
    "\n",
    "# Find Mean and STD DEV of Mastery\n",
    "count = 0\n",
    "\n",
    "for player in userData:\n",
    "    for champ in userData[player]['champions']:\n",
    "        count += 1\n",
    "\n",
    "# Find and graph z-scores of mastery\n",
    "AllMastery = np.empty(count)\n",
    "count = 0\n",
    "\n",
    "for player in userData:\n",
    "    for champ in userData[player]['champions']:\n",
    "        AllMastery[count] = userData[player]['champions'][champ]['points']\n",
    "        count += 1\n",
    "        \n",
    "MasteryMod = removeOutliers(AllMastery)\n",
    "MasteryDev = np.std(MasteryMod)\n",
    "MasteryMean = np.mean(MasteryMod)\n",
    "\n",
    "# Create Array\n",
    "for game in gameData:\n",
    "    #Find Total Level and Rank\n",
    "    totalLevel = 0\n",
    "    totalRank = 1\n",
    "    for user in game['players']:\n",
    "        totalLevel += int(userData[user['accountID']]['level'])\n",
    "        totalRank += int(userData[user['accountID']]['rank'])\n",
    "    \n",
    "    x = []\n",
    "    for user in game['players']:\n",
    "        #print(user)\n",
    "        #print(user['championID'])\n",
    "        try:\n",
    "            x = x + [champData[user['championID']],\n",
    "                np.cbrt((userData[user['accountID']]['champions'][user['championID']]['points'] - MasteryMean) / MasteryDev),\n",
    "                userData[user['accountID']]['rank'] / totalRank,\n",
    "                userData[user['accountID']]['level'] / totalLevel]\n",
    "        except ValueError:\n",
    "            print((userData[user['accountID']]['champions'][user['championID']]['points'] - MasteryMean) / MasteryDev)\n",
    "        \n",
    "                \n",
    "    AllDataArray_X.append(x)\n",
    "    AllDataArray_Y.append([int(game['winner']), int(not game['winner'])])\n",
    "\n",
    "seperator = math.floor((len(AllDataArray_Y) - 1) / 4)\n",
    "\n",
    "# Create Test and Training Data Sets\n",
    "test_x = np.array(AllDataArray_X[0:seperator])\n",
    "test_y = np.array(AllDataArray_Y[0:seperator])\n",
    "\n",
    "train_x = np.array(AllDataArray_X[seperator:])\n",
    "train_y = np.array(AllDataArray_Y[seperator:])\n",
    "\n",
    "print(\"Done!\")"
   ]
  },
  {
   "cell_type": "markdown",
   "metadata": {},
   "source": [
    "# Create and Compile Model"
   ]
  },
  {
   "cell_type": "code",
   "execution_count": 26,
   "metadata": {},
   "outputs": [
    {
     "ename": "NameError",
     "evalue": "name 'keras' is not defined",
     "output_type": "error",
     "traceback": [
      "\u001b[1;31m---------------------------------------------------------------------------\u001b[0m",
      "\u001b[1;31mNameError\u001b[0m                                 Traceback (most recent call last)",
      "\u001b[1;32m<ipython-input-26-d9e0cce42248>\u001b[0m in \u001b[0;36m<module>\u001b[1;34m\u001b[0m\n\u001b[1;32m----> 1\u001b[1;33m \u001b[0mmodel\u001b[0m \u001b[1;33m=\u001b[0m \u001b[0mkeras\u001b[0m\u001b[1;33m.\u001b[0m\u001b[0mSequential\u001b[0m\u001b[1;33m(\u001b[0m\u001b[1;33m)\u001b[0m\u001b[1;33m\u001b[0m\u001b[1;33m\u001b[0m\u001b[0m\n\u001b[0m\u001b[0;32m      2\u001b[0m \u001b[1;33m\u001b[0m\u001b[0m\n\u001b[0;32m      3\u001b[0m \u001b[0mmodel\u001b[0m\u001b[1;33m.\u001b[0m\u001b[0madd\u001b[0m\u001b[1;33m(\u001b[0m\u001b[0mkeras\u001b[0m\u001b[1;33m.\u001b[0m\u001b[0mlayers\u001b[0m\u001b[1;33m.\u001b[0m\u001b[0mDense\u001b[0m\u001b[1;33m(\u001b[0m\u001b[1;36m64\u001b[0m\u001b[1;33m,\u001b[0m \u001b[0minput_dim\u001b[0m\u001b[1;33m=\u001b[0m\u001b[1;36m40\u001b[0m\u001b[1;33m)\u001b[0m\u001b[1;33m)\u001b[0m\u001b[1;33m\u001b[0m\u001b[1;33m\u001b[0m\u001b[0m\n\u001b[0;32m      4\u001b[0m \u001b[0mmodel\u001b[0m\u001b[1;33m.\u001b[0m\u001b[0madd\u001b[0m\u001b[1;33m(\u001b[0m\u001b[0mkeras\u001b[0m\u001b[1;33m.\u001b[0m\u001b[0mlayers\u001b[0m\u001b[1;33m.\u001b[0m\u001b[0mActivation\u001b[0m\u001b[1;33m(\u001b[0m\u001b[1;34m'tanh'\u001b[0m\u001b[1;33m)\u001b[0m\u001b[1;33m)\u001b[0m\u001b[1;33m\u001b[0m\u001b[1;33m\u001b[0m\u001b[0m\n\u001b[0;32m      5\u001b[0m \u001b[0mmodel\u001b[0m\u001b[1;33m.\u001b[0m\u001b[0madd\u001b[0m\u001b[1;33m(\u001b[0m\u001b[0mkeras\u001b[0m\u001b[1;33m.\u001b[0m\u001b[0mlayers\u001b[0m\u001b[1;33m.\u001b[0m\u001b[0mDense\u001b[0m\u001b[1;33m(\u001b[0m\u001b[1;36m32\u001b[0m\u001b[1;33m)\u001b[0m\u001b[1;33m)\u001b[0m\u001b[1;33m\u001b[0m\u001b[1;33m\u001b[0m\u001b[0m\n",
      "\u001b[1;31mNameError\u001b[0m: name 'keras' is not defined"
     ]
    }
   ],
   "source": [
    "model = keras.Sequential()\n",
    "\n",
    "model.add(keras.layers.Dense(64, input_dim=40))\n",
    "model.add(keras.layers.Activation('tanh'))\n",
    "model.add(keras.layers.Dense(32))\n",
    "model.add(keras.layers.Activation('tanh'))\n",
    "model.add(keras.layers.Dense(2))\n",
    "model.add(keras.layers.Activation('softmax'))\n",
    "\n",
    "model.compile(loss='binary_crossentropy', optimizer='adam', metrics=['accuracy'])\n",
    "print(\"Model Created\")"
   ]
  },
  {
   "cell_type": "code",
   "execution_count": null,
   "metadata": {},
   "outputs": [],
   "source": []
  }
 ],
 "metadata": {
  "kernelspec": {
   "display_name": "Python 3",
   "language": "python",
   "name": "python3"
  },
  "language_info": {
   "codemirror_mode": {
    "name": "ipython",
    "version": 3
   },
   "file_extension": ".py",
   "mimetype": "text/x-python",
   "name": "python",
   "nbconvert_exporter": "python",
   "pygments_lexer": "ipython3",
   "version": "3.7.3"
  }
 },
 "nbformat": 4,
 "nbformat_minor": 2
}
